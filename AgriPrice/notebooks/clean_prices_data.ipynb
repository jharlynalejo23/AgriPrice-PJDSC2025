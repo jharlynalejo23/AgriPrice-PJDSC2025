{
 "cells": [
  {
   "cell_type": "markdown",
   "id": "3482fca3-352f-4106-938e-3091b5dcf4f9",
   "metadata": {},
   "source": [
    "# Data Preparation: Cleaning of PSA Food Price Data"
   ]
  },
  {
   "cell_type": "markdown",
   "id": "b0dbfebe-8fe1-4584-a62f-698c7e999e1e",
   "metadata": {},
   "source": [
    "This notebook documents the unified process for loading, cleaning, and transforming the raw food price data sourced from the Philippine Statistics Authority (PSA). \n",
    "The goal is to convert the wide, aggregated raw files into a single, clean, and tidy (long) provincial-level dataset ready for time-series analysis."
   ]
  },
  {
   "cell_type": "code",
   "execution_count": 5,
   "id": "6e58d253-b33d-4c4e-9bcf-5c3c5d855109",
   "metadata": {},
   "outputs": [],
   "source": [
    "import pandas as pd\n",
    "import numpy as np\n",
    "import os\n",
    "from datetime import datetime\n",
    "\n",
    "RAW_DATA_DIR = \"raw_dataset\"\n",
    "CLEANED_DATA_DIR = \"data_cleaned\"\n",
    "\n",
    "RAW_PRICE_FILES = [\n",
    "    \"Condiments-Food-Prices.csv\",\n",
    "    \"Fruit-Vegetables-Food-Prices.csv\",\n",
    "    \"Fruits-Food-Prices.csv\",\n",
    "    \"Leafy-Vegetables-Food-Prices.csv\",\n",
    "    \"Rootcrops-Food-Prices.csv\"\n",
    "]\n",
    "\n",
    "os.makedirs(CLEANED_DATA_DIR, exist_ok=True)"
   ]
  },
  {
   "cell_type": "code",
   "execution_count": 7,
   "id": "84ced4f3-980b-413f-80e6-26aa158ebb80",
   "metadata": {},
   "outputs": [],
   "source": [
    "def clean_and_save_data(file_name: str, raw_folder: str = RAW_DATA_DIR, output_folder: str = CLEANED_DATA_DIR):\n",
    "\n",
    "    full_path = os.path.join(raw_folder, file_name)\n",
    "\n",
    "    try:\n",
    "        df = pd.read_csv(full_path, skiprows=2, header=0)\n",
    "    except FileNotFoundError:\n",
    "        print(f\"File not found: {full_path}\")\n",
    "        return\n",
    "\n",
    "    df[['Commodity_Name', 'Unit']] = df['Commodity'].str.rsplit(', ', n=1, expand=True)\n",
    "    df = df.drop(columns=['Commodity'])\n",
    "\n",
    "    id_vars = ['Geolocation', 'Commodity_Name', 'Unit']\n",
    "    price_cols = df.columns.difference(id_vars).tolist()\n",
    "\n",
    "    df[price_cols] = df[price_cols].replace(['..', '.'], np.nan)\n",
    "    df[price_cols] = df[price_cols].apply(pd.to_numeric, errors='coerce')\n",
    "\n",
    "    all_nan_cols = df.columns[df.isna().all()].tolist()\n",
    "    if all_nan_cols:\n",
    "        df = df.drop(columns=all_nan_cols)\n",
    "\n",
    "    value_vars = df.columns.difference(id_vars).tolist()\n",
    "\n",
    "    def time_sort_key(time_str):\n",
    "        try:\n",
    "            return datetime.strptime(time_str, '%Y %B')\n",
    "        except ValueError:\n",
    "            return datetime(1900, 1, 1)\n",
    "\n",
    "    value_vars.sort(key=time_sort_key)\n",
    "\n",
    "    df_long = pd.melt(df, id_vars=id_vars, value_vars=value_vars,\n",
    "                      var_name='Time_Period', value_name='Retail_Price')\n",
    "    df_long['Geolocation'] = df_long['Geolocation'].str.strip()\n",
    "\n",
    "    df_long['dots'] = df_long['Geolocation'].str.extract(r'^(?P<dots>\\.+)')['dots'].str.len()\n",
    "    df_long['dots'] = df_long['dots'].fillna(0).astype(int)\n",
    "\n",
    "    df_long['Region'] = np.where(df_long['dots'] == 2,\n",
    "                                 df_long['Geolocation'].str.lstrip('.').str.strip(), np.nan)\n",
    "    df_long['Province'] = np.where(df_long['dots'] == 4,\n",
    "                                   df_long['Geolocation'].str.lstrip('.').str.strip(), np.nan)\n",
    "\n",
    "    df_long['Region'] = df_long['Region'].ffill()\n",
    "\n",
    "    df_long = df_long.dropna(subset=['Province']).reset_index(drop=True)\n",
    "\n",
    "    df_long = df_long.drop(columns=['dots', 'Geolocation'])\n",
    "\n",
    "    df_long[['Year', 'Month']] = df_long['Time_Period'].str.split(' ', expand=True)\n",
    "    df_long['Year'] = df_long['Year'].astype(int)\n",
    "\n",
    "    df_long = df_long[['Region', 'Province', 'Commodity_Name', 'Unit', 'Year', 'Month', 'Retail_Price']]\n",
    "\n",
    "    output_file = os.path.join(output_folder, f\"{file_name.replace('.csv','')}.csv\")\n",
    "    df_long.to_csv(output_file, index=False)\n",
    "    print(f\" Cleaned data saved: {output_file}. Final shape: {df_long.shape}\")"
   ]
  },
  {
   "cell_type": "code",
   "execution_count": 9,
   "id": "6f2ce2a5-9799-427a-902e-e1d5a8028c01",
   "metadata": {},
   "outputs": [
    {
     "name": "stderr",
     "output_type": "stream",
     "text": [
      "/var/folders/kk/r__l3n2d23s7_2w_328wzkpc0000gn/T/ipykernel_3446/3868427973.py:17: FutureWarning: Downcasting behavior in `replace` is deprecated and will be removed in a future version. To retain the old behavior, explicitly call `result.infer_objects(copy=False)`. To opt-in to the future behavior, set `pd.set_option('future.no_silent_downcasting', True)`\n",
      "  df[price_cols] = df[price_cols].replace(['..', '.'], np.nan)\n",
      "/var/folders/kk/r__l3n2d23s7_2w_328wzkpc0000gn/T/ipykernel_3446/3868427973.py:17: FutureWarning: Downcasting behavior in `replace` is deprecated and will be removed in a future version. To retain the old behavior, explicitly call `result.infer_objects(copy=False)`. To opt-in to the future behavior, set `pd.set_option('future.no_silent_downcasting', True)`\n",
      "  df[price_cols] = df[price_cols].replace(['..', '.'], np.nan)\n"
     ]
    },
    {
     "name": "stdout",
     "output_type": "stream",
     "text": [
      " Cleaned data saved: data_cleaned/Condiments-Food-Prices.csv. Final shape: (22400, 7)\n",
      " Cleaned data saved: data_cleaned/Fruit-Vegetables-Food-Prices.csv. Final shape: (50400, 7)\n"
     ]
    },
    {
     "name": "stderr",
     "output_type": "stream",
     "text": [
      "/var/folders/kk/r__l3n2d23s7_2w_328wzkpc0000gn/T/ipykernel_3446/3868427973.py:17: FutureWarning: Downcasting behavior in `replace` is deprecated and will be removed in a future version. To retain the old behavior, explicitly call `result.infer_objects(copy=False)`. To opt-in to the future behavior, set `pd.set_option('future.no_silent_downcasting', True)`\n",
      "  df[price_cols] = df[price_cols].replace(['..', '.'], np.nan)\n"
     ]
    },
    {
     "name": "stdout",
     "output_type": "stream",
     "text": [
      " Cleaned data saved: data_cleaned/Fruits-Food-Prices.csv. Final shape: (78400, 7)\n",
      " Cleaned data saved: data_cleaned/Leafy-Vegetables-Food-Prices.csv. Final shape: (28000, 7)\n"
     ]
    },
    {
     "name": "stderr",
     "output_type": "stream",
     "text": [
      "/var/folders/kk/r__l3n2d23s7_2w_328wzkpc0000gn/T/ipykernel_3446/3868427973.py:17: FutureWarning: Downcasting behavior in `replace` is deprecated and will be removed in a future version. To retain the old behavior, explicitly call `result.infer_objects(copy=False)`. To opt-in to the future behavior, set `pd.set_option('future.no_silent_downcasting', True)`\n",
      "  df[price_cols] = df[price_cols].replace(['..', '.'], np.nan)\n",
      "/var/folders/kk/r__l3n2d23s7_2w_328wzkpc0000gn/T/ipykernel_3446/3868427973.py:17: FutureWarning: Downcasting behavior in `replace` is deprecated and will be removed in a future version. To retain the old behavior, explicitly call `result.infer_objects(copy=False)`. To opt-in to the future behavior, set `pd.set_option('future.no_silent_downcasting', True)`\n",
      "  df[price_cols] = df[price_cols].replace(['..', '.'], np.nan)\n"
     ]
    },
    {
     "name": "stdout",
     "output_type": "stream",
     "text": [
      " Cleaned data saved: data_cleaned/Rootcrops-Food-Prices.csv. Final shape: (33600, 7)\n"
     ]
    }
   ],
   "source": [
    "for f_name in RAW_PRICE_FILES:\n",
    "    clean_and_save_data(f_name)"
   ]
  }
 ],
 "metadata": {
  "kernelspec": {
   "display_name": "alejo_jharlyn",
   "language": "python",
   "name": "alejo_jharlyn"
  },
  "language_info": {
   "codemirror_mode": {
    "name": "ipython",
    "version": 3
   },
   "file_extension": ".py",
   "mimetype": "text/x-python",
   "name": "python",
   "nbconvert_exporter": "python",
   "pygments_lexer": "ipython3",
   "version": "3.10.16"
  }
 },
 "nbformat": 4,
 "nbformat_minor": 5
}
